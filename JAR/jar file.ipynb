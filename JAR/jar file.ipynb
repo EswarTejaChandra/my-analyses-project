{
 "cells": [
  {
   "cell_type": "code",
   "execution_count": 139,
   "metadata": {},
   "outputs": [],
   "source": [
    "# Import necessary libraries\n",
    "import pandas as pd\n",
    "import numpy as np\n",
    "import matplotlib.pyplot as plt\n",
    "import seaborn as sns\n",
    "\n"
   ]
  },
  {
   "cell_type": "markdown",
   "metadata": {},
   "source": [
    "# Part 1: Sales and Profitability Analysis"
   ]
  },
  {
   "cell_type": "code",
   "execution_count": 140,
   "metadata": {},
   "outputs": [],
   "source": [
    "# Load the datasets\n",
    "orders = pd.read_csv(\"C:/Users/eswar/Desktop/JAR/List_of_Orders_55FFC79CF8.csv\")         \n",
    "order_details = pd.read_csv(\"C:/Users/eswar/Desktop/JAR/Order_Details_19795F61CF.csv\") \n"
   ]
  },
  {
   "cell_type": "code",
   "execution_count": 141,
   "metadata": {},
   "outputs": [
    {
     "name": "stdout",
     "output_type": "stream",
     "text": [
      "Merged Data Sample:\n",
      "  Order ID  Order Date CustomerName        State       City  Amount  Profit  \\\n",
      "0  B-25601  01-04-2018       Bharat      Gujarat  Ahmedabad  1275.0 -1148.0   \n",
      "1  B-25601  01-04-2018       Bharat      Gujarat  Ahmedabad    66.0   -12.0   \n",
      "2  B-25601  01-04-2018       Bharat      Gujarat  Ahmedabad     8.0    -2.0   \n",
      "3  B-25601  01-04-2018       Bharat      Gujarat  Ahmedabad    80.0   -56.0   \n",
      "4  B-25602  01-04-2018        Pearl  Maharashtra       Pune   168.0  -111.0   \n",
      "\n",
      "   Quantity     Category      Sub-Category  \n",
      "0         7    Furniture         Bookcases  \n",
      "1         5     Clothing             Stole  \n",
      "2         3     Clothing       Hankerchief  \n",
      "3         4  Electronics  Electronic Games  \n",
      "4         2  Electronics            Phones  \n"
     ]
    }
   ],
   "source": [
    "merged_data = pd.merge(orders, order_details, on=\"Order ID\", how=\"inner\")\n",
    "print(\"Merged Data Sample:\")\n",
    "print(merged_data.head())"
   ]
  },
  {
   "cell_type": "code",
   "execution_count": 142,
   "metadata": {},
   "outputs": [
    {
     "data": {
      "text/html": [
       "<div>\n",
       "<style scoped>\n",
       "    .dataframe tbody tr th:only-of-type {\n",
       "        vertical-align: middle;\n",
       "    }\n",
       "\n",
       "    .dataframe tbody tr th {\n",
       "        vertical-align: top;\n",
       "    }\n",
       "\n",
       "    .dataframe thead th {\n",
       "        text-align: right;\n",
       "    }\n",
       "</style>\n",
       "<table border=\"1\" class=\"dataframe\">\n",
       "  <thead>\n",
       "    <tr style=\"text-align: right;\">\n",
       "      <th></th>\n",
       "      <th>Order ID</th>\n",
       "      <th>Order Date</th>\n",
       "      <th>CustomerName</th>\n",
       "      <th>State</th>\n",
       "      <th>City</th>\n",
       "      <th>Amount</th>\n",
       "      <th>Profit</th>\n",
       "      <th>Quantity</th>\n",
       "      <th>Category</th>\n",
       "      <th>Sub-Category</th>\n",
       "    </tr>\n",
       "  </thead>\n",
       "  <tbody>\n",
       "    <tr>\n",
       "      <th>0</th>\n",
       "      <td>B-25601</td>\n",
       "      <td>01-04-2018</td>\n",
       "      <td>Bharat</td>\n",
       "      <td>Gujarat</td>\n",
       "      <td>Ahmedabad</td>\n",
       "      <td>1275.0</td>\n",
       "      <td>-1148.0</td>\n",
       "      <td>7</td>\n",
       "      <td>Furniture</td>\n",
       "      <td>Bookcases</td>\n",
       "    </tr>\n",
       "    <tr>\n",
       "      <th>1</th>\n",
       "      <td>B-25601</td>\n",
       "      <td>01-04-2018</td>\n",
       "      <td>Bharat</td>\n",
       "      <td>Gujarat</td>\n",
       "      <td>Ahmedabad</td>\n",
       "      <td>66.0</td>\n",
       "      <td>-12.0</td>\n",
       "      <td>5</td>\n",
       "      <td>Clothing</td>\n",
       "      <td>Stole</td>\n",
       "    </tr>\n",
       "    <tr>\n",
       "      <th>2</th>\n",
       "      <td>B-25601</td>\n",
       "      <td>01-04-2018</td>\n",
       "      <td>Bharat</td>\n",
       "      <td>Gujarat</td>\n",
       "      <td>Ahmedabad</td>\n",
       "      <td>8.0</td>\n",
       "      <td>-2.0</td>\n",
       "      <td>3</td>\n",
       "      <td>Clothing</td>\n",
       "      <td>Hankerchief</td>\n",
       "    </tr>\n",
       "    <tr>\n",
       "      <th>3</th>\n",
       "      <td>B-25601</td>\n",
       "      <td>01-04-2018</td>\n",
       "      <td>Bharat</td>\n",
       "      <td>Gujarat</td>\n",
       "      <td>Ahmedabad</td>\n",
       "      <td>80.0</td>\n",
       "      <td>-56.0</td>\n",
       "      <td>4</td>\n",
       "      <td>Electronics</td>\n",
       "      <td>Electronic Games</td>\n",
       "    </tr>\n",
       "    <tr>\n",
       "      <th>4</th>\n",
       "      <td>B-25602</td>\n",
       "      <td>01-04-2018</td>\n",
       "      <td>Pearl</td>\n",
       "      <td>Maharashtra</td>\n",
       "      <td>Pune</td>\n",
       "      <td>168.0</td>\n",
       "      <td>-111.0</td>\n",
       "      <td>2</td>\n",
       "      <td>Electronics</td>\n",
       "      <td>Phones</td>\n",
       "    </tr>\n",
       "    <tr>\n",
       "      <th>5</th>\n",
       "      <td>B-25602</td>\n",
       "      <td>01-04-2018</td>\n",
       "      <td>Pearl</td>\n",
       "      <td>Maharashtra</td>\n",
       "      <td>Pune</td>\n",
       "      <td>424.0</td>\n",
       "      <td>-272.0</td>\n",
       "      <td>5</td>\n",
       "      <td>Electronics</td>\n",
       "      <td>Phones</td>\n",
       "    </tr>\n",
       "    <tr>\n",
       "      <th>6</th>\n",
       "      <td>B-25602</td>\n",
       "      <td>01-04-2018</td>\n",
       "      <td>Pearl</td>\n",
       "      <td>Maharashtra</td>\n",
       "      <td>Pune</td>\n",
       "      <td>2617.0</td>\n",
       "      <td>1151.0</td>\n",
       "      <td>4</td>\n",
       "      <td>Electronics</td>\n",
       "      <td>Phones</td>\n",
       "    </tr>\n",
       "    <tr>\n",
       "      <th>7</th>\n",
       "      <td>B-25602</td>\n",
       "      <td>01-04-2018</td>\n",
       "      <td>Pearl</td>\n",
       "      <td>Maharashtra</td>\n",
       "      <td>Pune</td>\n",
       "      <td>561.0</td>\n",
       "      <td>212.0</td>\n",
       "      <td>3</td>\n",
       "      <td>Clothing</td>\n",
       "      <td>Saree</td>\n",
       "    </tr>\n",
       "    <tr>\n",
       "      <th>8</th>\n",
       "      <td>B-25602</td>\n",
       "      <td>01-04-2018</td>\n",
       "      <td>Pearl</td>\n",
       "      <td>Maharashtra</td>\n",
       "      <td>Pune</td>\n",
       "      <td>119.0</td>\n",
       "      <td>-5.0</td>\n",
       "      <td>8</td>\n",
       "      <td>Clothing</td>\n",
       "      <td>Saree</td>\n",
       "    </tr>\n",
       "    <tr>\n",
       "      <th>9</th>\n",
       "      <td>B-25603</td>\n",
       "      <td>03-04-2018</td>\n",
       "      <td>Jahan</td>\n",
       "      <td>Madhya Pradesh</td>\n",
       "      <td>Bhopal</td>\n",
       "      <td>1355.0</td>\n",
       "      <td>-60.0</td>\n",
       "      <td>5</td>\n",
       "      <td>Clothing</td>\n",
       "      <td>Trousers</td>\n",
       "    </tr>\n",
       "    <tr>\n",
       "      <th>10</th>\n",
       "      <td>B-25603</td>\n",
       "      <td>03-04-2018</td>\n",
       "      <td>Jahan</td>\n",
       "      <td>Madhya Pradesh</td>\n",
       "      <td>Bhopal</td>\n",
       "      <td>24.0</td>\n",
       "      <td>-30.0</td>\n",
       "      <td>1</td>\n",
       "      <td>Furniture</td>\n",
       "      <td>Chairs</td>\n",
       "    </tr>\n",
       "    <tr>\n",
       "      <th>11</th>\n",
       "      <td>B-25603</td>\n",
       "      <td>03-04-2018</td>\n",
       "      <td>Jahan</td>\n",
       "      <td>Madhya Pradesh</td>\n",
       "      <td>Bhopal</td>\n",
       "      <td>193.0</td>\n",
       "      <td>-166.0</td>\n",
       "      <td>3</td>\n",
       "      <td>Clothing</td>\n",
       "      <td>Saree</td>\n",
       "    </tr>\n",
       "    <tr>\n",
       "      <th>12</th>\n",
       "      <td>B-25603</td>\n",
       "      <td>03-04-2018</td>\n",
       "      <td>Jahan</td>\n",
       "      <td>Madhya Pradesh</td>\n",
       "      <td>Bhopal</td>\n",
       "      <td>180.0</td>\n",
       "      <td>5.0</td>\n",
       "      <td>3</td>\n",
       "      <td>Clothing</td>\n",
       "      <td>Trousers</td>\n",
       "    </tr>\n",
       "    <tr>\n",
       "      <th>13</th>\n",
       "      <td>B-25603</td>\n",
       "      <td>03-04-2018</td>\n",
       "      <td>Jahan</td>\n",
       "      <td>Madhya Pradesh</td>\n",
       "      <td>Bhopal</td>\n",
       "      <td>116.0</td>\n",
       "      <td>16.0</td>\n",
       "      <td>4</td>\n",
       "      <td>Clothing</td>\n",
       "      <td>Stole</td>\n",
       "    </tr>\n",
       "    <tr>\n",
       "      <th>14</th>\n",
       "      <td>B-25603</td>\n",
       "      <td>03-04-2018</td>\n",
       "      <td>Jahan</td>\n",
       "      <td>Madhya Pradesh</td>\n",
       "      <td>Bhopal</td>\n",
       "      <td>107.0</td>\n",
       "      <td>36.0</td>\n",
       "      <td>6</td>\n",
       "      <td>Clothing</td>\n",
       "      <td>Stole</td>\n",
       "    </tr>\n",
       "    <tr>\n",
       "      <th>15</th>\n",
       "      <td>B-25603</td>\n",
       "      <td>03-04-2018</td>\n",
       "      <td>Jahan</td>\n",
       "      <td>Madhya Pradesh</td>\n",
       "      <td>Bhopal</td>\n",
       "      <td>12.0</td>\n",
       "      <td>1.0</td>\n",
       "      <td>2</td>\n",
       "      <td>Clothing</td>\n",
       "      <td>Hankerchief</td>\n",
       "    </tr>\n",
       "    <tr>\n",
       "      <th>16</th>\n",
       "      <td>B-25603</td>\n",
       "      <td>03-04-2018</td>\n",
       "      <td>Jahan</td>\n",
       "      <td>Madhya Pradesh</td>\n",
       "      <td>Bhopal</td>\n",
       "      <td>38.0</td>\n",
       "      <td>18.0</td>\n",
       "      <td>1</td>\n",
       "      <td>Clothing</td>\n",
       "      <td>Kurti</td>\n",
       "    </tr>\n",
       "    <tr>\n",
       "      <th>17</th>\n",
       "      <td>B-25604</td>\n",
       "      <td>03-04-2018</td>\n",
       "      <td>Divsha</td>\n",
       "      <td>Rajasthan</td>\n",
       "      <td>Jaipur</td>\n",
       "      <td>65.0</td>\n",
       "      <td>17.0</td>\n",
       "      <td>2</td>\n",
       "      <td>Clothing</td>\n",
       "      <td>T-shirt</td>\n",
       "    </tr>\n",
       "    <tr>\n",
       "      <th>18</th>\n",
       "      <td>B-25604</td>\n",
       "      <td>03-04-2018</td>\n",
       "      <td>Divsha</td>\n",
       "      <td>Rajasthan</td>\n",
       "      <td>Jaipur</td>\n",
       "      <td>157.0</td>\n",
       "      <td>5.0</td>\n",
       "      <td>9</td>\n",
       "      <td>Clothing</td>\n",
       "      <td>Saree</td>\n",
       "    </tr>\n",
       "    <tr>\n",
       "      <th>19</th>\n",
       "      <td>B-25605</td>\n",
       "      <td>05-04-2018</td>\n",
       "      <td>Kasheen</td>\n",
       "      <td>West Bengal</td>\n",
       "      <td>Kolkata</td>\n",
       "      <td>75.0</td>\n",
       "      <td>0.0</td>\n",
       "      <td>7</td>\n",
       "      <td>Clothing</td>\n",
       "      <td>Saree</td>\n",
       "    </tr>\n",
       "  </tbody>\n",
       "</table>\n",
       "</div>"
      ],
      "text/plain": [
       "   Order ID  Order Date CustomerName           State       City  Amount  \\\n",
       "0   B-25601  01-04-2018       Bharat         Gujarat  Ahmedabad  1275.0   \n",
       "1   B-25601  01-04-2018       Bharat         Gujarat  Ahmedabad    66.0   \n",
       "2   B-25601  01-04-2018       Bharat         Gujarat  Ahmedabad     8.0   \n",
       "3   B-25601  01-04-2018       Bharat         Gujarat  Ahmedabad    80.0   \n",
       "4   B-25602  01-04-2018        Pearl     Maharashtra       Pune   168.0   \n",
       "5   B-25602  01-04-2018        Pearl     Maharashtra       Pune   424.0   \n",
       "6   B-25602  01-04-2018        Pearl     Maharashtra       Pune  2617.0   \n",
       "7   B-25602  01-04-2018        Pearl     Maharashtra       Pune   561.0   \n",
       "8   B-25602  01-04-2018        Pearl     Maharashtra       Pune   119.0   \n",
       "9   B-25603  03-04-2018        Jahan  Madhya Pradesh     Bhopal  1355.0   \n",
       "10  B-25603  03-04-2018        Jahan  Madhya Pradesh     Bhopal    24.0   \n",
       "11  B-25603  03-04-2018        Jahan  Madhya Pradesh     Bhopal   193.0   \n",
       "12  B-25603  03-04-2018        Jahan  Madhya Pradesh     Bhopal   180.0   \n",
       "13  B-25603  03-04-2018        Jahan  Madhya Pradesh     Bhopal   116.0   \n",
       "14  B-25603  03-04-2018        Jahan  Madhya Pradesh     Bhopal   107.0   \n",
       "15  B-25603  03-04-2018        Jahan  Madhya Pradesh     Bhopal    12.0   \n",
       "16  B-25603  03-04-2018        Jahan  Madhya Pradesh     Bhopal    38.0   \n",
       "17  B-25604  03-04-2018       Divsha       Rajasthan     Jaipur    65.0   \n",
       "18  B-25604  03-04-2018       Divsha       Rajasthan     Jaipur   157.0   \n",
       "19  B-25605  05-04-2018      Kasheen     West Bengal    Kolkata    75.0   \n",
       "\n",
       "    Profit  Quantity     Category      Sub-Category  \n",
       "0  -1148.0         7    Furniture         Bookcases  \n",
       "1    -12.0         5     Clothing             Stole  \n",
       "2     -2.0         3     Clothing       Hankerchief  \n",
       "3    -56.0         4  Electronics  Electronic Games  \n",
       "4   -111.0         2  Electronics            Phones  \n",
       "5   -272.0         5  Electronics            Phones  \n",
       "6   1151.0         4  Electronics            Phones  \n",
       "7    212.0         3     Clothing             Saree  \n",
       "8     -5.0         8     Clothing             Saree  \n",
       "9    -60.0         5     Clothing          Trousers  \n",
       "10   -30.0         1    Furniture            Chairs  \n",
       "11  -166.0         3     Clothing             Saree  \n",
       "12     5.0         3     Clothing          Trousers  \n",
       "13    16.0         4     Clothing             Stole  \n",
       "14    36.0         6     Clothing             Stole  \n",
       "15     1.0         2     Clothing       Hankerchief  \n",
       "16    18.0         1     Clothing             Kurti  \n",
       "17    17.0         2     Clothing           T-shirt  \n",
       "18     5.0         9     Clothing             Saree  \n",
       "19     0.0         7     Clothing             Saree  "
      ]
     },
     "execution_count": 142,
     "metadata": {},
     "output_type": "execute_result"
    }
   ],
   "source": [
    "merged_data.head(20)"
   ]
  },
  {
   "cell_type": "markdown",
   "metadata": {},
   "source": [
    "Total Sales (Amount) for each category"
   ]
  },
  {
   "cell_type": "code",
   "execution_count": 143,
   "metadata": {},
   "outputs": [],
   "source": [
    "sales_by_category = merged_data.groupby(\"Category\")[\"Amount\"].sum().reset_index()\n"
   ]
  },
  {
   "cell_type": "code",
   "execution_count": 144,
   "metadata": {},
   "outputs": [],
   "source": [
    "h=columns={\"Amount\": \"Total_Sales\"}"
   ]
  },
  {
   "cell_type": "code",
   "execution_count": 145,
   "metadata": {},
   "outputs": [
    {
     "name": "stdout",
     "output_type": "stream",
     "text": [
      "\n",
      "Total Sales by Category:\n",
      "      Category    Amount\n",
      "0     Clothing  139054.0\n",
      "1  Electronics  165267.0\n",
      "2    Furniture  127181.0\n"
     ]
    }
   ],
   "source": [
    "sales_by_category.rename(h, inplace=True)\n",
    "\n",
    "print(\"\\nTotal Sales by Category:\")\n",
    "print(sales_by_category)"
   ]
  },
  {
   "cell_type": "markdown",
   "metadata": {},
   "source": [
    "Average Profit per Order for each category"
   ]
  },
  {
   "cell_type": "code",
   "execution_count": null,
   "metadata": {},
   "outputs": [],
   "source": []
  },
  {
   "cell_type": "code",
   "execution_count": 146,
   "metadata": {},
   "outputs": [],
   "source": [
    "profit_per_order = merged_data.groupby([\"Order ID\", \"Category\"])[\"Profit\"].sum().reset_index()"
   ]
  },
  {
   "cell_type": "code",
   "execution_count": 147,
   "metadata": {},
   "outputs": [],
   "source": [
    "avg_profit_by_category = profit_per_order.groupby(\"Category\")[\"Profit\"].mean().reset_index()"
   ]
  },
  {
   "cell_type": "code",
   "execution_count": 148,
   "metadata": {},
   "outputs": [],
   "source": [
    "avg_profit_by_category.rename(columns={\"Profit\": \"Avg_Profit_per_Order\"}, inplace=True)"
   ]
  },
  {
   "cell_type": "code",
   "execution_count": 149,
   "metadata": {},
   "outputs": [
    {
     "name": "stdout",
     "output_type": "stream",
     "text": [
      "      Category  Avg_Profit_per_Order\n",
      "0     Clothing             28.404580\n",
      "1  Electronics             51.441176\n",
      "2    Furniture             12.354839\n"
     ]
    }
   ],
   "source": [
    "print(avg_profit_by_category)"
   ]
  },
  {
   "cell_type": "markdown",
   "metadata": {},
   "source": [
    "Total Profit Margin for each category"
   ]
  },
  {
   "cell_type": "code",
   "execution_count": 150,
   "metadata": {},
   "outputs": [],
   "source": [
    "x={'Profit': 'sum', 'Amount': 'sum'}"
   ]
  },
  {
   "cell_type": "code",
   "execution_count": 151,
   "metadata": {},
   "outputs": [],
   "source": [
    "profit_margin_by_category = merged_data.groupby(\"Category\").agg(x).reset_index()"
   ]
  },
  {
   "cell_type": "markdown",
   "metadata": {},
   "source": [
    "# formula \n",
    "profit_margin_by_category[\"Profit\"] / profit_margin_by_category[\"Amount\"] * 100\n",
    "\n"
   ]
  },
  {
   "cell_type": "code",
   "execution_count": 152,
   "metadata": {},
   "outputs": [],
   "source": [
    "profit_margin_by_category[\"Profit_Margin\"] = (profit_margin_by_category[\"Profit\"] / profit_margin_by_category[\"Amount\"]) * 100"
   ]
  },
  {
   "cell_type": "code",
   "execution_count": 153,
   "metadata": {},
   "outputs": [
    {
     "name": "stdout",
     "output_type": "stream",
     "text": [
      "      Category  Profit_Margin\n",
      "0     Clothing       8.027817\n",
      "1  Electronics       6.349725\n",
      "2    Furniture       1.806874\n"
     ]
    }
   ],
   "source": [
    "print(profit_margin_by_category[[\"Category\", \"Profit_Margin\"]])"
   ]
  },
  {
   "cell_type": "markdown",
   "metadata": {},
   "source": [
    "Merge the above metrics"
   ]
  },
  {
   "cell_type": "code",
   "execution_count": 154,
   "metadata": {},
   "outputs": [],
   "source": [
    "sales_profit_df = pd.merge(sales_by_category, avg_profit_by_category, on=\"Category\")"
   ]
  },
  {
   "cell_type": "code",
   "execution_count": 155,
   "metadata": {},
   "outputs": [],
   "source": [
    "sales_profit_df = pd.merge(sales_profit_df, profit_margin_by_category[[\"Category\", \"Profit_Margin\"]], on=\"Category\")"
   ]
  },
  {
   "cell_type": "code",
   "execution_count": 156,
   "metadata": {},
   "outputs": [
    {
     "name": "stdout",
     "output_type": "stream",
     "text": [
      "      Category    Amount  Avg_Profit_per_Order  Profit_Margin\n",
      "0     Clothing  139054.0             28.404580       8.027817\n",
      "1  Electronics  165267.0             51.441176       6.349725\n",
      "2    Furniture  127181.0             12.354839       1.806874\n"
     ]
    }
   ],
   "source": [
    "print(sales_profit_df)"
   ]
  },
  {
   "cell_type": "markdown",
   "metadata": {},
   "source": [
    "task-2"
   ]
  },
  {
   "cell_type": "code",
   "execution_count": 157,
   "metadata": {},
   "outputs": [],
   "source": [
    "sales_target = pd.read_csv(\"C:/Users/eswar/Desktop/JAR/Sales_target_DD2E9B96A0.csv\")# load 3rd data set"
   ]
  },
  {
   "cell_type": "markdown",
   "metadata": {},
   "source": [
    "# Filter data for the Furniture category"
   ]
  },
  {
   "cell_type": "code",
   "execution_count": 158,
   "metadata": {},
   "outputs": [],
   "source": [
    "furniture_target = sales_target[sales_target[\"Category\"] == \"Furniture\"].copy()"
   ]
  },
  {
   "cell_type": "code",
   "execution_count": 159,
   "metadata": {},
   "outputs": [],
   "source": [
    "furniture_target[\"Month of Order Date\"] = pd.to_datetime(\n",
    "    furniture_target[\"Month of Order Date\"],\n",
    "    format=\"%b-%y\",\n",
    "    errors=\"coerce\"  # This will set any unconvertible dates to NaT\n",
    ")\n"
   ]
  },
  {
   "cell_type": "code",
   "execution_count": 160,
   "metadata": {},
   "outputs": [
    {
     "name": "stdout",
     "output_type": "stream",
     "text": [
      "Index(['Month of Order Date', 'Category', 'Target'], dtype='object')\n"
     ]
    }
   ],
   "source": [
    "print(furniture_target.columns)"
   ]
  },
  {
   "cell_type": "code",
   "execution_count": 161,
   "metadata": {},
   "outputs": [],
   "source": [
    "\n",
    "furniture_target[\"Target_Sales_pct_change\"] = furniture_target[\"Target\"].pct_change() * 100"
   ]
  },
  {
   "cell_type": "code",
   "execution_count": 162,
   "metadata": {},
   "outputs": [],
   "source": [
    "furniture_target[\"Target_Sales_pct_change\"] = furniture_target[\"Target\"].pct_change() * 100"
   ]
  },
  {
   "cell_type": "code",
   "execution_count": 163,
   "metadata": {},
   "outputs": [
    {
     "name": "stdout",
     "output_type": "stream",
     "text": [
      "   Month of Order Date   Category   Target  Target_Sales_pct_change\n",
      "0           2018-04-01  Furniture  10400.0                      NaN\n",
      "1           2018-05-01  Furniture  10500.0                 0.961538\n",
      "2           2018-06-01  Furniture  10600.0                 0.952381\n",
      "3           2018-07-01  Furniture  10800.0                 1.886792\n",
      "4           2018-08-01  Furniture  10900.0                 0.925926\n",
      "5           2018-09-01  Furniture  11000.0                 0.917431\n",
      "6           2018-10-01  Furniture  11100.0                 0.909091\n",
      "7           2018-11-01  Furniture  11300.0                 1.801802\n",
      "8           2018-12-01  Furniture  11400.0                 0.884956\n",
      "9           2019-01-01  Furniture  11500.0                 0.877193\n",
      "10          2019-02-01  Furniture  11600.0                 0.869565\n",
      "11          2019-03-01  Furniture  11800.0                 1.724138\n"
     ]
    }
   ],
   "source": [
    "print(furniture_target)"
   ]
  },
  {
   "cell_type": "markdown",
   "metadata": {},
   "source": [
    "Months with Significant Target Sales Fluctuations (>10%"
   ]
  },
  {
   "cell_type": "code",
   "execution_count": 164,
   "metadata": {},
   "outputs": [],
   "source": [
    "significant_fluctuations = furniture_target[np.abs(furniture_target[\"Target_Sales_pct_change\"]) > 10]"
   ]
  },
  {
   "cell_type": "code",
   "execution_count": 165,
   "metadata": {},
   "outputs": [
    {
     "name": "stdout",
     "output_type": "stream",
     "text": [
      "Top 5 States by Order Count: ['Madhya Pradesh', 'Maharashtra', 'Rajasthan', 'Gujarat', 'Punjab'] \n",
      "\n"
     ]
    }
   ],
   "source": [
    "top_states = orders['State'].value_counts().head(5).index.tolist()\n",
    "print(\"Top 5 States by Order Count:\", top_states, \"\\n\")"
   ]
  },
  {
   "cell_type": "code",
   "execution_count": 166,
   "metadata": {},
   "outputs": [],
   "source": [
    "regional_data = merged_data[merged_data['State'].isin(top_states)]"
   ]
  },
  {
   "cell_type": "code",
   "execution_count": 167,
   "metadata": {},
   "outputs": [],
   "source": [
    "regional_stats = (\n",
    "    regional_data\n",
    "    .groupby('State')\n",
    "    .agg(Total_Sales=('Amount', 'sum'),\n",
    "         Avg_Profit=('Profit', 'mean'))\n",
    "    .reset_index()\n",
    ")"
   ]
  },
  {
   "cell_type": "code",
   "execution_count": 168,
   "metadata": {},
   "outputs": [
    {
     "data": {
      "text/html": [
       "<div>\n",
       "<style scoped>\n",
       "    .dataframe tbody tr th:only-of-type {\n",
       "        vertical-align: middle;\n",
       "    }\n",
       "\n",
       "    .dataframe tbody tr th {\n",
       "        vertical-align: top;\n",
       "    }\n",
       "\n",
       "    .dataframe thead th {\n",
       "        text-align: right;\n",
       "    }\n",
       "</style>\n",
       "<table border=\"1\" class=\"dataframe\">\n",
       "  <thead>\n",
       "    <tr style=\"text-align: right;\">\n",
       "      <th></th>\n",
       "      <th>State</th>\n",
       "      <th>Total_Sales</th>\n",
       "      <th>Avg_Profit</th>\n",
       "    </tr>\n",
       "  </thead>\n",
       "  <tbody>\n",
       "    <tr>\n",
       "      <th>0</th>\n",
       "      <td>Gujarat</td>\n",
       "      <td>21058.0</td>\n",
       "      <td>5.344828</td>\n",
       "    </tr>\n",
       "    <tr>\n",
       "      <th>1</th>\n",
       "      <td>Madhya Pradesh</td>\n",
       "      <td>105140.0</td>\n",
       "      <td>16.326471</td>\n",
       "    </tr>\n",
       "    <tr>\n",
       "      <th>2</th>\n",
       "      <td>Maharashtra</td>\n",
       "      <td>95348.0</td>\n",
       "      <td>21.296552</td>\n",
       "    </tr>\n",
       "    <tr>\n",
       "      <th>3</th>\n",
       "      <td>Punjab</td>\n",
       "      <td>16786.0</td>\n",
       "      <td>-10.150000</td>\n",
       "    </tr>\n",
       "    <tr>\n",
       "      <th>4</th>\n",
       "      <td>Rajasthan</td>\n",
       "      <td>21149.0</td>\n",
       "      <td>16.986486</td>\n",
       "    </tr>\n",
       "  </tbody>\n",
       "</table>\n",
       "</div>"
      ],
      "text/plain": [
       "            State  Total_Sales  Avg_Profit\n",
       "0         Gujarat      21058.0    5.344828\n",
       "1  Madhya Pradesh     105140.0   16.326471\n",
       "2     Maharashtra      95348.0   21.296552\n",
       "3          Punjab      16786.0  -10.150000\n",
       "4       Rajasthan      21149.0   16.986486"
      ]
     },
     "execution_count": 168,
     "metadata": {},
     "output_type": "execute_result"
    }
   ],
   "source": [
    "regional_stats"
   ]
  },
  {
   "cell_type": "markdown",
   "metadata": {},
   "source": [
    "# visualisation"
   ]
  },
  {
   "cell_type": "markdown",
   "metadata": {},
   "source": [
    "# Target Sales over Time"
   ]
  },
  {
   "cell_type": "code",
   "execution_count": 169,
   "metadata": {},
   "outputs": [],
   "source": [
    "# Set visualization style\n",
    "\n",
    "plt.rcParams[\"figure.figsize\"] = (12, 6)"
   ]
  },
  {
   "cell_type": "code",
   "execution_count": 170,
   "metadata": {},
   "outputs": [
    {
     "data": {
      "image/png": "[encoded data removed]",
      "text/plain": [
       "<Figure size 1200x600 with 1 Axes>"
      ]
     },
     "metadata": {},
     "output_type": "display_data"
    }
   ],
   "source": [
    "plt.figure()\n",
    "plt.plot(furniture_target[\"Month of Order Date\"], furniture_target[\"Target\"], marker='o', linestyle='-', color='b')\n",
    "plt.title(\"Furniture Category Target Sales Over Time\")\n",
    "plt.xlabel(\"Month\")\n",
    "plt.ylabel(\"Target Sales\")\n",
    "plt.xticks(rotation=45)\n",
    "plt.tight_layout()\n",
    "plt.show()"
   ]
  },
  {
   "cell_type": "code",
   "execution_count": 178,
   "metadata": {},
   "outputs": [
    {
     "data": {
      "image/png": "[encoded data removed]",
      "text/plain": [
       "<Figure size 1200x600 with 1 Axes>"
      ]
     },
     "metadata": {},
     "output_type": "display_data"
    }
   ],
   "source": [
    "plt.figure()\n",
    "y= furniture_target[\"Target_Sales_pct_change\"]\n",
    "plt.bar(furniture_target[\"Month of Order Date\"].dt.strftime(\"%Y-%m\"),y, color='orange')\n",
    "plt.title(\"Month-over-Month Percentage Change in Furniture Target Sales\")\n",
    "plt.xlabel(\"Month\")\n",
    "plt.ylabel(\"Percentage Change (%)\")\n",
    "plt.xticks(rotation=90)\n",
    "plt.tight_layout()\n",
    "plt.show()"
   ]
  },
  {
   "cell_type": "code",
   "execution_count": 172,
   "metadata": {},
   "outputs": [
    {
     "name": "stdout",
     "output_type": "stream",
     "text": [
      "\n",
      "Top 5 States by Order Count:\n",
      "            State  Order_Count\n",
      "0  Madhya Pradesh          101\n",
      "1     Maharashtra           90\n",
      "2       Rajasthan           32\n",
      "3         Gujarat           27\n",
      "4          Punjab           25\n"
     ]
    }
   ],
   "source": [
    "state_order_counts = orders[\"State\"].value_counts().reset_index()\n",
    "state_order_counts.columns = [\"State\", \"Order_Count\"]\n",
    "top_states = state_order_counts.head(5)\n",
    "print(\"\\nTop 5 States by Order Count:\")\n",
    "print(top_states)\n"
   ]
  },
  {
   "cell_type": "code",
   "execution_count": 173,
   "metadata": {},
   "outputs": [
    {
     "name": "stdout",
     "output_type": "stream",
     "text": [
      "\n",
      "Performance Metrics for Top 5 States:\n",
      "            State  Total_Sales  Avg_Profit\n",
      "0         Gujarat      21058.0    5.344828\n",
      "1  Madhya Pradesh     105140.0   16.326471\n",
      "2     Maharashtra      95348.0   21.296552\n",
      "3          Punjab      16786.0  -10.150000\n",
      "4       Rajasthan      21149.0   16.986486\n"
     ]
    }
   ],
   "source": [
    "top_state_data =regional_stats[regional_stats[\"State\"].isin(top_states[\"State\"])]\n",
    "print(\"\\nPerformance Metrics for Top 5 States:\")\n",
    "print(top_state_data)"
   ]
  },
  {
   "cell_type": "code",
   "execution_count": 176,
   "metadata": {},
   "outputs": [
    {
     "data": {
      "image/png": "[encoded data removed]",
      "text/plain": [
       "<Figure size 1200x600 with 1 Axes>"
      ]
     },
     "metadata": {},
     "output_type": "display_data"
    }
   ],
   "source": [
    "plt.figure()\n",
    "sns.barplot(data=top_state_data, x=\"State\", y=\"Avg_Profit\")\n",
    "plt.title(\"Average Profit for Top 5 States\")\n",
    "plt.xlabel(\"State\")\n",
    "plt.ylabel(\"Average Profit\")\n",
    "plt.tight_layout()\n",
    "plt.show()"
   ]
  },
  {
   "cell_type": "markdown",
   "metadata": {},
   "source": [
    "# My observation"
   ]
  },
  {
   "cell_type": "markdown",
   "metadata": {},
   "source": [
    "Safe and Secure:\n",
    " Robust security measures are in place to protect your financial data, so you can trust the app with your money. What Could Be Better: Better Money \n",
    " Insights:\n",
    "  Add detailed reports that show your spending.\n",
    "Easy to Use: \n",
    "   The design is straightforward and easy to use, making it really easy to navigate and use. Starts Small: You can start saving or investing with as little as ₹10, so you don't need a lot of money to get started.\n",
    "   \n",
    " Clear Tracking: It displays your savings and investments in user-friendly dashboards so you always know where your money is."
   ]
  },
  {
   "cell_type": "markdown",
   "metadata": {},
   "source": [
    "Possible New Opportunities For Jar: Making Money With Jar for Everyone: Age: 10+ \n",
    "\n",
    "Small Loans and Credit: \n",
    "Jar could provide you with microloans or credits based on your saving patterns. Think about it as lending you a few bucks here and there when needed, including an app feature that would help decide if it's safe to lend based on complex algorithms.\n",
    "\n",
    "Automatic Bill Payments and Expense Tracking: \n",
    "The app might give you the option of auto paying for your recurrent bill payments. It may also keep tabs on your expenses, ensuring that you have a clear picture of your expenditure.\n",
    "\n",
    "Shopping and Online Payments Integration: \n",
    "You may also be able to use your savings or digital gold for cheaper online shopping and bill payments. It's like using saved funds to buy things without any hassle.\n",
    "\n",
    "Fun challenges and rewards: \n",
    "Jar could be more interesting by including games and offering challenges or rewards for saving money. They could also enable their system to reward users for referring their friends to the app.\n",
    "\n",
    "The Strong Points That Jar Can Utilize:\n",
    "\n",
    "Automation:\n",
    "They already assist in saving money automatically. They can use this expertise in facilitating the operation of these newly advanced features. \n",
    "\n",
    "Easy-To-Use Design:\n",
    "The application is very straightforward and welcoming. Any n...\n",
    "\n"
   ]
  }
 ],
 "metadata": {
  "kernelspec": {
   "display_name": "base",
   "language": "python",
   "name": "python3"
  },
  "language_info": {
   "codemirror_mode": {
    "name": "ipython",
    "version": 3
   },
   "file_extension": ".py",
   "mimetype": "text/x-python",
   "name": "python",
   "nbconvert_exporter": "python",
   "pygments_lexer": "ipython3",
   "version": "3.12.7"
  }
 },
 "nbformat": 4,
 "nbformat_minor": 2
}
